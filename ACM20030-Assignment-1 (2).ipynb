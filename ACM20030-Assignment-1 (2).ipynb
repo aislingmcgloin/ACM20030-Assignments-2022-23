{
 "cells": [
  {
   "cell_type": "markdown",
   "id": "5681e393",
   "metadata": {},
   "source": [
    "## question 1"
   ]
  },
  {
   "cell_type": "code",
   "execution_count": 6,
   "id": "6243f427",
   "metadata": {},
   "outputs": [],
   "source": [
    "import numpy as np\n",
    "import matplotlib.pyplot as plt"
   ]
  },
  {
   "cell_type": "markdown",
   "id": "44d19b01",
   "metadata": {},
   "source": []
  },
  {
   "cell_type": "code",
   "execution_count": 7,
   "id": "ca79224e",
   "metadata": {},
   "outputs": [],
   "source": [
    "import numpy as np\n",
    "def VectorLength(x, y):\n",
    "    v = np.sqrt(x*x + y*y)\n",
    "    return v\n",
    "\n",
    "\n"
   ]
  },
  {
   "cell_type": "code",
   "execution_count": 8,
   "id": "22e9c333",
   "metadata": {},
   "outputs": [
    {
     "name": "stdout",
     "output_type": "stream",
     "text": [
      "7.810249675906654\n"
     ]
    }
   ],
   "source": [
    "print(VectorLength(5,6))"
   ]
  },
  {
   "cell_type": "code",
   "execution_count": 9,
   "id": "25f89175",
   "metadata": {},
   "outputs": [
    {
     "name": "stdout",
     "output_type": "stream",
     "text": [
      "5.0990195135927845\n"
     ]
    }
   ],
   "source": [
    "print(VectorLength(-1,5))"
   ]
  },
  {
   "cell_type": "code",
   "execution_count": 10,
   "id": "c38c43b3",
   "metadata": {},
   "outputs": [
    {
     "name": "stdout",
     "output_type": "stream",
     "text": [
      "0.841\n",
      "sin(1) = 0.841\n"
     ]
    }
   ],
   "source": [
    "r = np.sin(1)\n",
    "y = np.round(r, 3)\n",
    "print(y)\n",
    "print(\"sin(1) =\" , y)"
   ]
  },
  {
   "cell_type": "markdown",
   "id": "f0ff2cc7",
   "metadata": {},
   "source": [
    "## Question 2"
   ]
  },
  {
   "cell_type": "code",
   "execution_count": 11,
   "id": "c647b01b",
   "metadata": {},
   "outputs": [],
   "source": [
    "# function to check if a number is prime\n",
    "def IsPrime(n):\n",
    "    i = 2\n",
    "    while i < np.sqrt(n):\n",
    "        # For each i check if it divides n\n",
    "        if(n % i ==0):\n",
    "            return 0\n",
    "        i += 1\n",
    "        # if no divisors are found, the number is prime\n",
    "    return 1\n",
    "        "
   ]
  },
  {
   "cell_type": "code",
   "execution_count": 12,
   "id": "298a9b3c",
   "metadata": {},
   "outputs": [
    {
     "name": "stdout",
     "output_type": "stream",
     "text": [
      "1\n"
     ]
    }
   ],
   "source": [
    "print(IsPrime(1))"
   ]
  },
  {
   "cell_type": "code",
   "execution_count": 13,
   "id": "a52e8b20",
   "metadata": {},
   "outputs": [
    {
     "name": "stdout",
     "output_type": "stream",
     "text": [
      "1\n"
     ]
    }
   ],
   "source": [
    "print(IsPrime(2))"
   ]
  },
  {
   "cell_type": "code",
   "execution_count": 14,
   "id": "b7f067dc",
   "metadata": {},
   "outputs": [
    {
     "name": "stdout",
     "output_type": "stream",
     "text": [
      "1\n"
     ]
    }
   ],
   "source": [
    "print(IsPrime(3))"
   ]
  },
  {
   "cell_type": "code",
   "execution_count": 15,
   "id": "c6ca735b",
   "metadata": {},
   "outputs": [
    {
     "name": "stdout",
     "output_type": "stream",
     "text": [
      "1\n"
     ]
    }
   ],
   "source": [
    "print(IsPrime(4))"
   ]
  },
  {
   "cell_type": "code",
   "execution_count": 18,
   "id": "67937cf3",
   "metadata": {},
   "outputs": [
    {
     "name": "stdout",
     "output_type": "stream",
     "text": [
      "1\n"
     ]
    }
   ],
   "source": [
    "print(IsPrime(5))"
   ]
  },
  {
   "cell_type": "code",
   "execution_count": 19,
   "id": "23154bbd",
   "metadata": {},
   "outputs": [
    {
     "name": "stdout",
     "output_type": "stream",
     "text": [
      "0\n"
     ]
    }
   ],
   "source": [
    "print(IsPrime(6))"
   ]
  },
  {
   "cell_type": "code",
   "execution_count": 20,
   "id": "a6b4545f",
   "metadata": {},
   "outputs": [
    {
     "name": "stdout",
     "output_type": "stream",
     "text": [
      "1\n"
     ]
    }
   ],
   "source": [
    "print(IsPrime(7))"
   ]
  },
  {
   "cell_type": "code",
   "execution_count": 21,
   "id": "d2e5338e",
   "metadata": {},
   "outputs": [
    {
     "name": "stdout",
     "output_type": "stream",
     "text": [
      "0\n"
     ]
    }
   ],
   "source": [
    "print(IsPrime(8))"
   ]
  },
  {
   "cell_type": "code",
   "execution_count": 22,
   "id": "6f40962a",
   "metadata": {},
   "outputs": [
    {
     "name": "stdout",
     "output_type": "stream",
     "text": [
      "1\n"
     ]
    }
   ],
   "source": [
    "print(IsPrime(9))"
   ]
  },
  {
   "cell_type": "code",
   "execution_count": 33,
   "id": "cbed5e97",
   "metadata": {},
   "outputs": [
    {
     "name": "stdout",
     "output_type": "stream",
     "text": [
      "0\n"
     ]
    }
   ],
   "source": [
    "print(IsPrime(10))"
   ]
  },
  {
   "cell_type": "markdown",
   "id": "b3195e61",
   "metadata": {},
   "source": [
    "it does not accuratley check if a number is prime as 2 and 3 are prime"
   ]
  },
  {
   "cell_type": "code",
   "execution_count": 23,
   "id": "2a5e52c8",
   "metadata": {},
   "outputs": [],
   "source": [
    "# function to check if a number is prime\n",
    "def IsPrime(n):\n",
    "    if n == 1:\n",
    "        return 0\n",
    "    i = 2\n",
    "    while i <= np.sqrt(n):\n",
    "        # For each i check if it divides n\n",
    "        if(n % i ==0):\n",
    "            return 0\n",
    "        i += 1\n",
    "        # if no divisors are found, the number is prime\n",
    "        return 1"
   ]
  },
  {
   "cell_type": "code",
   "execution_count": 3,
   "id": "321d57a4",
   "metadata": {},
   "outputs": [
    {
     "name": "stdout",
     "output_type": "stream",
     "text": [
      "0\n"
     ]
    }
   ],
   "source": [
    "print(IsPrime(1))"
   ]
  },
  {
   "cell_type": "code",
   "execution_count": 24,
   "id": "cfdb08ff",
   "metadata": {},
   "outputs": [
    {
     "name": "stdout",
     "output_type": "stream",
     "text": [
      "0\n"
     ]
    }
   ],
   "source": [
    "print(IsPrime(4))"
   ]
  },
  {
   "cell_type": "markdown",
   "id": "fbfe21fb",
   "metadata": {},
   "source": [
    "I added a case to make it all better"
   ]
  },
  {
   "cell_type": "code",
   "execution_count": null,
   "id": "77f182e3",
   "metadata": {},
   "outputs": [],
   "source": []
  }
 ],
 "metadata": {
  "kernelspec": {
   "display_name": "Python 3 (ipykernel)",
   "language": "python",
   "name": "python3"
  },
  "language_info": {
   "codemirror_mode": {
    "name": "ipython",
    "version": 3
   },
   "file_extension": ".py",
   "mimetype": "text/x-python",
   "name": "python",
   "nbconvert_exporter": "python",
   "pygments_lexer": "ipython3",
   "version": "3.9.12"
  }
 },
 "nbformat": 4,
 "nbformat_minor": 5
}
