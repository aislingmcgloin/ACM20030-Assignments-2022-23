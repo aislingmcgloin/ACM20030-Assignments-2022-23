{
 "cells": [
  {
   "cell_type": "markdown",
   "id": "5681e393",
   "metadata": {},
   "source": [
    "## question 1"
   ]
  },
  {
   "cell_type": "code",
   "execution_count": 1,
   "id": "6243f427",
   "metadata": {},
   "outputs": [],
   "source": [
    "import numpy as np\n",
    "import matplotlib.pyplot as plt"
   ]
  },
  {
   "cell_type": "markdown",
   "id": "44d19b01",
   "metadata": {},
   "source": []
  },
  {
   "cell_type": "code",
   "execution_count": 2,
   "id": "ca79224e",
   "metadata": {},
   "outputs": [],
   "source": [
    "import numpy as np\n",
    "def VectorLength(x, y):\n",
    "    v = np.sqrt(x*x + y*y)\n",
    "    return v\n",
    "\n",
    "\n"
   ]
  },
  {
   "cell_type": "code",
   "execution_count": 3,
   "id": "6cb99ef3",
   "metadata": {},
   "outputs": [
    {
     "name": "stdout",
     "output_type": "stream",
     "text": [
      "7.810249675906654\n"
     ]
    }
   ],
   "source": [
    "print(VectorLength(5,6))"
   ]
  },
  {
   "cell_type": "code",
   "execution_count": 4,
   "id": "d8f93d6d",
   "metadata": {},
   "outputs": [
    {
     "name": "stdout",
     "output_type": "stream",
     "text": [
      "5.0990195135927845\n"
     ]
    }
   ],
   "source": [
    "print(VectorLength(-1,5))"
   ]
  },
  {
   "cell_type": "code",
   "execution_count": 5,
   "id": "1dc3f374",
   "metadata": {},
   "outputs": [
    {
     "name": "stdout",
     "output_type": "stream",
     "text": [
      "0.841\n",
      "sin(1) = 0.841\n"
     ]
    }
   ],
   "source": [
    "r = np.sin(1)\n",
    "y = np.round(r, 3)\n",
    "print(y)\n",
    "print(\"sin(1) =\" , y)"
   ]
  },
  {
   "cell_type": "markdown",
   "id": "d4a4fbd0",
   "metadata": {},
   "source": [
    "## Question 2"
   ]
  },
  {
   "cell_type": "code",
   "execution_count": 6,
   "id": "07969dcb",
   "metadata": {},
   "outputs": [],
   "source": [
    "# function to check if a number is prime\n",
    "def IsPrime(n):\n",
    "    i = 2\n",
    "    while i < np.sqrt(n):\n",
    "        # For each i check if it divides n\n",
    "        if(n % i ==0):\n",
    "            return 0\n",
    "        i += 1\n",
    "        # if no divisors are found, the number is prime\n",
    "    return 1\n",
    "        "
   ]
  },
  {
   "cell_type": "code",
   "execution_count": 7,
   "id": "7738e0dc",
   "metadata": {},
   "outputs": [
    {
     "name": "stdout",
     "output_type": "stream",
     "text": [
      "1\n"
     ]
    }
   ],
   "source": [
    "print(IsPrime(1))"
   ]
  },
  {
   "cell_type": "code",
   "execution_count": 8,
   "id": "383dbbec",
   "metadata": {},
   "outputs": [
    {
     "name": "stdout",
     "output_type": "stream",
     "text": [
      "1\n"
     ]
    }
   ],
   "source": [
    "print(IsPrime(2))"
   ]
  },
  {
   "cell_type": "code",
   "execution_count": 9,
   "id": "96ca5f9c",
   "metadata": {},
   "outputs": [
    {
     "name": "stdout",
     "output_type": "stream",
     "text": [
      "1\n"
     ]
    }
   ],
   "source": [
    "print(IsPrime(3))"
   ]
  },
  {
   "cell_type": "code",
   "execution_count": 10,
   "id": "c43e18de",
   "metadata": {},
   "outputs": [
    {
     "name": "stdout",
     "output_type": "stream",
     "text": [
      "1\n"
     ]
    }
   ],
   "source": [
    "print(IsPrime(4))"
   ]
  },
  {
   "cell_type": "code",
   "execution_count": 11,
   "id": "1b4bdf3a",
   "metadata": {},
   "outputs": [
    {
     "name": "stdout",
     "output_type": "stream",
     "text": [
      "1\n"
     ]
    }
   ],
   "source": [
    "print(IsPrime(5))"
   ]
  },
  {
   "cell_type": "code",
   "execution_count": 12,
   "id": "9d2c901c",
   "metadata": {},
   "outputs": [
    {
     "name": "stdout",
     "output_type": "stream",
     "text": [
      "0\n"
     ]
    }
   ],
   "source": [
    "print(IsPrime(6))"
   ]
  },
  {
   "cell_type": "code",
   "execution_count": 13,
   "id": "575db7b1",
   "metadata": {},
   "outputs": [
    {
     "name": "stdout",
     "output_type": "stream",
     "text": [
      "1\n"
     ]
    }
   ],
   "source": [
    "print(IsPrime(7))"
   ]
  },
  {
   "cell_type": "code",
   "execution_count": 14,
   "id": "0652e067",
   "metadata": {},
   "outputs": [
    {
     "name": "stdout",
     "output_type": "stream",
     "text": [
      "0\n"
     ]
    }
   ],
   "source": [
    "print(IsPrime(8))"
   ]
  },
  {
   "cell_type": "code",
   "execution_count": 15,
   "id": "aef46ee5",
   "metadata": {},
   "outputs": [
    {
     "name": "stdout",
     "output_type": "stream",
     "text": [
      "1\n"
     ]
    }
   ],
   "source": [
    "print(IsPrime(9))"
   ]
  },
  {
   "cell_type": "code",
   "execution_count": 16,
   "id": "afd0a905",
   "metadata": {},
   "outputs": [
    {
     "name": "stdout",
     "output_type": "stream",
     "text": [
      "0\n"
     ]
    }
   ],
   "source": [
    "print(IsPrime(10))"
   ]
  },
  {
   "cell_type": "markdown",
   "id": "7427e02d",
   "metadata": {},
   "source": [
    "it does not accuratley check if a number is prime as 2 and 3 are prime"
   ]
  },
  {
   "cell_type": "code",
   "execution_count": 17,
   "id": "8e34ae45",
   "metadata": {},
   "outputs": [],
   "source": [
    "# function to check if a number is prime\n",
    "def IsPrime1(n):\n",
    "    if n == 1:\n",
    "        return 0\n",
    "    i = 2\n",
    "    while i <= np.sqrt(n):\n",
    "        # For each i check if it divides n\n",
    "        if(n % i ==0):\n",
    "            return 0\n",
    "        i += 1\n",
    "        # if no divisors are found, the number is prime\n",
    "    return 1"
   ]
  },
  {
   "cell_type": "code",
   "execution_count": 18,
   "id": "b47a2f86",
   "metadata": {},
   "outputs": [
    {
     "name": "stdout",
     "output_type": "stream",
     "text": [
      "0\n"
     ]
    }
   ],
   "source": [
    "print(IsPrime1(1))"
   ]
  },
  {
   "cell_type": "code",
   "execution_count": 19,
   "id": "d9945d60",
   "metadata": {},
   "outputs": [
    {
     "name": "stdout",
     "output_type": "stream",
     "text": [
      "0\n"
     ]
    }
   ],
   "source": [
    "print(IsPrime1(4))"
   ]
  },
  {
   "cell_type": "markdown",
   "id": "edaa8790",
   "metadata": {},
   "source": [
    "I added a case to make it all better"
   ]
  },
  {
   "cell_type": "code",
   "execution_count": 20,
   "id": "f76f7b97",
   "metadata": {},
   "outputs": [],
   "source": [
    "def countprime(n):\n",
    "    i = 1\n",
    "    count = 0\n",
    "    while i < n:\n",
    "        if IsPrime1(i) == 1:\n",
    "            count = count + 1\n",
    "        i = i+ 1 \n",
    "    return count \n",
    "\n",
    "        "
   ]
  },
  {
   "cell_type": "code",
   "execution_count": 21,
   "id": "c21a29ed",
   "metadata": {},
   "outputs": [
    {
     "data": {
      "text/plain": [
       "4"
      ]
     },
     "execution_count": 21,
     "metadata": {},
     "output_type": "execute_result"
    }
   ],
   "source": [
    "countprime(10)"
   ]
  },
  {
   "cell_type": "code",
   "execution_count": 22,
   "id": "a8de753e",
   "metadata": {},
   "outputs": [
    {
     "data": {
      "text/plain": [
       "168"
      ]
     },
     "execution_count": 22,
     "metadata": {},
     "output_type": "execute_result"
    }
   ],
   "source": [
    "countprime(1000)"
   ]
  },
  {
   "cell_type": "code",
   "execution_count": 23,
   "id": "725e579e",
   "metadata": {},
   "outputs": [],
   "source": [
    "x = np.arange(0,40,1)\n",
    "Pi = np.zeros(40)\n",
    "i=0\n",
    "while i < np.size(Pi):\n",
    "    Pi[i] = countprime(i)\n",
    "    i += 1"
   ]
  },
  {
   "cell_type": "code",
   "execution_count": 24,
   "id": "755244a3",
   "metadata": {},
   "outputs": [
    {
     "data": {
      "image/png": "[encoded data removed]",
      "text/plain": [
       "<Figure size 432x288 with 1 Axes>"
      ]
     },
     "metadata": {
      "needs_background": "light"
     },
     "output_type": "display_data"
    }
   ],
   "source": [
    "plt.plot(x, Pi, 'ro')\n",
    "plt.xlabel(\"x\")\n",
    "plt.ylabel(\"Pi(x)\")\n",
    "plt.grid(True)"
   ]
  },
  {
   "cell_type": "markdown",
   "id": "30cd6ffb",
   "metadata": {},
   "source": [
    "## Question 3"
   ]
  },
  {
   "cell_type": "code",
   "execution_count": 28,
   "id": "9ef51c0e",
   "metadata": {},
   "outputs": [],
   "source": [
    "data = np.loadtxt(\"PowerLawOrExponential (4).txt\")"
   ]
  },
  {
   "cell_type": "code",
   "execution_count": 29,
   "id": "18ba2ebb",
   "metadata": {},
   "outputs": [
    {
     "data": {
      "text/plain": [
       "array([ 0.1,  0.2,  0.3,  0.4,  0.5,  0.6,  0.7,  0.8,  0.9,  1. ,  1.1,\n",
       "        1.2,  1.3,  1.4,  1.5,  1.6,  1.7,  1.8,  1.9,  2. ,  2.1,  2.2,\n",
       "        2.3,  2.4,  2.5,  2.6,  2.7,  2.8,  2.9,  3. ,  3.1,  3.2,  3.3,\n",
       "        3.4,  3.5,  3.6,  3.7,  3.8,  3.9,  4. ,  4.1,  4.2,  4.3,  4.4,\n",
       "        4.5,  4.6,  4.7,  4.8,  4.9,  5. ,  5.1,  5.2,  5.3,  5.4,  5.5,\n",
       "        5.6,  5.7,  5.8,  5.9,  6. ,  6.1,  6.2,  6.3,  6.4,  6.5,  6.6,\n",
       "        6.7,  6.8,  6.9,  7. ,  7.1,  7.2,  7.3,  7.4,  7.5,  7.6,  7.7,\n",
       "        7.8,  7.9,  8. ,  8.1,  8.2,  8.3,  8.4,  8.5,  8.6,  8.7,  8.8,\n",
       "        8.9,  9. ,  9.1,  9.2,  9.3,  9.4,  9.5,  9.6,  9.7,  9.8,  9.9,\n",
       "       10. ])"
      ]
     },
     "execution_count": 29,
     "metadata": {},
     "output_type": "execute_result"
    }
   ],
   "source": [
    "xdata = data[:,0]\n",
    "xdata"
   ]
  },
  {
   "cell_type": "code",
   "execution_count": 31,
   "id": "dcf9dea3",
   "metadata": {},
   "outputs": [
    {
     "data": {
      "text/plain": [
       "array([1.000e-02, 4.000e-02, 9.000e-02, 1.600e-01, 2.500e-01, 3.600e-01,\n",
       "       4.900e-01, 6.400e-01, 8.100e-01, 1.000e+00, 1.210e+00, 1.440e+00,\n",
       "       1.690e+00, 1.960e+00, 2.250e+00, 2.560e+00, 2.890e+00, 3.240e+00,\n",
       "       3.610e+00, 4.000e+00, 4.410e+00, 4.840e+00, 5.290e+00, 5.760e+00,\n",
       "       6.250e+00, 6.760e+00, 7.290e+00, 7.840e+00, 8.410e+00, 9.000e+00,\n",
       "       9.610e+00, 1.024e+01, 1.089e+01, 1.156e+01, 1.225e+01, 1.296e+01,\n",
       "       1.369e+01, 1.444e+01, 1.521e+01, 1.600e+01, 1.681e+01, 1.764e+01,\n",
       "       1.849e+01, 1.936e+01, 2.025e+01, 2.116e+01, 2.209e+01, 2.304e+01,\n",
       "       2.401e+01, 2.500e+01, 2.601e+01, 2.704e+01, 2.809e+01, 2.916e+01,\n",
       "       3.025e+01, 3.136e+01, 3.249e+01, 3.364e+01, 3.481e+01, 3.600e+01,\n",
       "       3.721e+01, 3.844e+01, 3.969e+01, 4.096e+01, 4.225e+01, 4.356e+01,\n",
       "       4.489e+01, 4.624e+01, 4.761e+01, 4.900e+01, 5.041e+01, 5.184e+01,\n",
       "       5.329e+01, 5.476e+01, 5.625e+01, 5.776e+01, 5.929e+01, 6.084e+01,\n",
       "       6.241e+01, 6.400e+01, 6.561e+01, 6.724e+01, 6.889e+01, 7.056e+01,\n",
       "       7.225e+01, 7.396e+01, 7.569e+01, 7.744e+01, 7.921e+01, 8.100e+01,\n",
       "       8.281e+01, 8.464e+01, 8.649e+01, 8.836e+01, 9.025e+01, 9.216e+01,\n",
       "       9.409e+01, 9.604e+01, 9.801e+01, 1.000e+02])"
      ]
     },
     "execution_count": 31,
     "metadata": {},
     "output_type": "execute_result"
    }
   ],
   "source": [
    "ydata = data[:,1]\n",
    "ydata"
   ]
  },
  {
   "cell_type": "code",
   "execution_count": 32,
   "id": "e059cfd9",
   "metadata": {},
   "outputs": [
    {
     "data": {
      "text/plain": [
       "Text(0, 0.5, 'Y')"
      ]
     },
     "execution_count": 32,
     "metadata": {},
     "output_type": "execute_result"
    },
    {
     "data": {
      "image/png": "[encoded data removed]",
      "text/plain": [
       "<Figure size 432x288 with 1 Axes>"
      ]
     },
     "metadata": {
      "needs_background": "light"
     },
     "output_type": "display_data"
    }
   ],
   "source": [
    "plt.plot((xdata), np.log(ydata))\n",
    "plt.grid(True)\n",
    "plt.title(\"log plot\")\n",
    "plt.xlabel(\"X\")\n",
    "plt.ylabel(\"Y\")"
   ]
  },
  {
   "cell_type": "code",
   "execution_count": 33,
   "id": "80dbdc80",
   "metadata": {},
   "outputs": [
    {
     "data": {
      "text/plain": [
       "Text(0, 0.5, 'Y')"
      ]
     },
     "execution_count": 33,
     "metadata": {},
     "output_type": "execute_result"
    },
    {
     "data": {
      "image/png": "[encoded data removed]",
      "text/plain": [
       "<Figure size 432x288 with 1 Axes>"
      ]
     },
     "metadata": {
      "needs_background": "light"
     },
     "output_type": "display_data"
    }
   ],
   "source": [
    "plt.plot(np.log(xdata), np.log(ydata))\n",
    "plt.grid(True)\n",
    "plt.title(\"log plot\")\n",
    "plt.xlabel(\"X\")\n",
    "plt.ylabel(\"Y\")"
   ]
  },
  {
   "cell_type": "markdown",
   "id": "86e4df81",
   "metadata": {},
   "source": [
    "yes, the data is discrete "
   ]
  },
  {
   "cell_type": "code",
   "execution_count": 34,
   "id": "76ecaf07",
   "metadata": {},
   "outputs": [],
   "source": [
    "n=4/2"
   ]
  },
  {
   "cell_type": "code",
   "execution_count": null,
   "id": "3d913b60",
   "metadata": {},
   "outputs": [],
   "source": []
  }
 ],
 "metadata": {
  "kernelspec": {
   "display_name": "Python 3 (ipykernel)",
   "language": "python",
   "name": "python3"
  },
  "language_info": {
   "codemirror_mode": {
    "name": "ipython",
    "version": 3
   },
   "file_extension": ".py",
   "mimetype": "text/x-python",
   "name": "python",
   "nbconvert_exporter": "python",
   "pygments_lexer": "ipython3",
   "version": "3.9.12"
  }
 },
 "nbformat": 4,
 "nbformat_minor": 5
}
