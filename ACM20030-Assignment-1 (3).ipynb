{
 "cells": [
  {
   "cell_type": "markdown",
   "id": "5681e393",
   "metadata": {},
   "source": [
    "## question 1"
   ]
  },
  {
   "cell_type": "code",
   "execution_count": 2,
   "id": "6243f427",
   "metadata": {},
   "outputs": [],
   "source": [
    "import numpy as np\n",
    "import matplotlib.pyplot as plt"
   ]
  },
  {
   "cell_type": "markdown",
   "id": "44d19b01",
   "metadata": {},
   "source": []
  },
  {
   "cell_type": "code",
   "execution_count": 3,
   "id": "ca79224e",
   "metadata": {},
   "outputs": [],
   "source": [
    "import numpy as np\n",
    "def VectorLength(x, y):\n",
    "    v = np.sqrt(x*x + y*y)\n",
    "    return v\n",
    "\n",
    "\n"
   ]
  },
  {
   "cell_type": "code",
   "execution_count": 4,
   "id": "6cb99ef3",
   "metadata": {},
   "outputs": [
    {
     "name": "stdout",
     "output_type": "stream",
     "text": [
      "7.810249675906654\n"
     ]
    }
   ],
   "source": [
    "print(VectorLength(5,6))"
   ]
  },
  {
   "cell_type": "code",
   "execution_count": 5,
   "id": "d8f93d6d",
   "metadata": {},
   "outputs": [
    {
     "name": "stdout",
     "output_type": "stream",
     "text": [
      "5.0990195135927845\n"
     ]
    }
   ],
   "source": [
    "print(VectorLength(-1,5))"
   ]
  },
  {
   "cell_type": "code",
   "execution_count": 6,
   "id": "1dc3f374",
   "metadata": {},
   "outputs": [
    {
     "name": "stdout",
     "output_type": "stream",
     "text": [
      "0.841\n",
      "sin(1) = 0.841\n"
     ]
    }
   ],
   "source": [
    "r = np.sin(1)\n",
    "y = np.round(r, 3)\n",
    "print(y)\n",
    "print(\"sin(1) =\" , y)"
   ]
  },
  {
   "cell_type": "markdown",
   "id": "d4a4fbd0",
   "metadata": {},
   "source": [
    "## Question 2"
   ]
  },
  {
   "cell_type": "code",
   "execution_count": 7,
   "id": "07969dcb",
   "metadata": {},
   "outputs": [],
   "source": [
    "# function to check if a number is prime\n",
    "def IsPrime(n):\n",
    "    i = 2\n",
    "    while i < np.sqrt(n):\n",
    "        # For each i check if it divides n\n",
    "        if(n % i ==0):\n",
    "            return 0\n",
    "        i += 1\n",
    "        # if no divisors are found, the number is prime\n",
    "    return 1\n",
    "        "
   ]
  },
  {
   "cell_type": "code",
   "execution_count": 8,
   "id": "7738e0dc",
   "metadata": {},
   "outputs": [
    {
     "name": "stdout",
     "output_type": "stream",
     "text": [
      "1\n"
     ]
    }
   ],
   "source": [
    "print(IsPrime(1))"
   ]
  },
  {
   "cell_type": "code",
   "execution_count": 9,
   "id": "383dbbec",
   "metadata": {},
   "outputs": [
    {
     "name": "stdout",
     "output_type": "stream",
     "text": [
      "1\n"
     ]
    }
   ],
   "source": [
    "print(IsPrime(2))"
   ]
  },
  {
   "cell_type": "code",
   "execution_count": 10,
   "id": "96ca5f9c",
   "metadata": {},
   "outputs": [
    {
     "name": "stdout",
     "output_type": "stream",
     "text": [
      "1\n"
     ]
    }
   ],
   "source": [
    "print(IsPrime(3))"
   ]
  },
  {
   "cell_type": "code",
   "execution_count": 11,
   "id": "c43e18de",
   "metadata": {},
   "outputs": [
    {
     "name": "stdout",
     "output_type": "stream",
     "text": [
      "1\n"
     ]
    }
   ],
   "source": [
    "print(IsPrime(4))"
   ]
  },
  {
   "cell_type": "code",
   "execution_count": 12,
   "id": "1b4bdf3a",
   "metadata": {},
   "outputs": [
    {
     "name": "stdout",
     "output_type": "stream",
     "text": [
      "1\n"
     ]
    }
   ],
   "source": [
    "print(IsPrime(5))"
   ]
  },
  {
   "cell_type": "code",
   "execution_count": 13,
   "id": "9d2c901c",
   "metadata": {},
   "outputs": [
    {
     "name": "stdout",
     "output_type": "stream",
     "text": [
      "0\n"
     ]
    }
   ],
   "source": [
    "print(IsPrime(6))"
   ]
  },
  {
   "cell_type": "code",
   "execution_count": 14,
   "id": "575db7b1",
   "metadata": {},
   "outputs": [
    {
     "name": "stdout",
     "output_type": "stream",
     "text": [
      "1\n"
     ]
    }
   ],
   "source": [
    "print(IsPrime(7))"
   ]
  },
  {
   "cell_type": "code",
   "execution_count": 15,
   "id": "0652e067",
   "metadata": {},
   "outputs": [
    {
     "name": "stdout",
     "output_type": "stream",
     "text": [
      "0\n"
     ]
    }
   ],
   "source": [
    "print(IsPrime(8))"
   ]
  },
  {
   "cell_type": "code",
   "execution_count": 16,
   "id": "aef46ee5",
   "metadata": {},
   "outputs": [
    {
     "name": "stdout",
     "output_type": "stream",
     "text": [
      "1\n"
     ]
    }
   ],
   "source": [
    "print(IsPrime(9))"
   ]
  },
  {
   "cell_type": "code",
   "execution_count": 17,
   "id": "afd0a905",
   "metadata": {},
   "outputs": [
    {
     "name": "stdout",
     "output_type": "stream",
     "text": [
      "0\n"
     ]
    }
   ],
   "source": [
    "print(IsPrime(10))"
   ]
  },
  {
   "cell_type": "markdown",
   "id": "7427e02d",
   "metadata": {},
   "source": [
    "it does not accuratley check if a number is prime as 2 and 3 are prime"
   ]
  },
  {
   "cell_type": "code",
   "execution_count": 18,
   "id": "8e34ae45",
   "metadata": {},
   "outputs": [],
   "source": [
    "# function to check if a number is prime\n",
    "def IsPrime1(n):\n",
    "    if n == 1:\n",
    "        return 0\n",
    "    i = 2\n",
    "    while i <= np.sqrt(n):\n",
    "        # For each i check if it divides n\n",
    "        if(n % i ==0):\n",
    "            return 0\n",
    "        i += 1\n",
    "        # if no divisors are found, the number is prime\n",
    "    return 1"
   ]
  },
  {
   "cell_type": "code",
   "execution_count": 19,
   "id": "b47a2f86",
   "metadata": {},
   "outputs": [
    {
     "name": "stdout",
     "output_type": "stream",
     "text": [
      "0\n"
     ]
    }
   ],
   "source": [
    "print(IsPrime1(1))"
   ]
  },
  {
   "cell_type": "code",
   "execution_count": 20,
   "id": "d9945d60",
   "metadata": {},
   "outputs": [
    {
     "name": "stdout",
     "output_type": "stream",
     "text": [
      "0\n"
     ]
    }
   ],
   "source": [
    "print(IsPrime1(4))"
   ]
  },
  {
   "cell_type": "markdown",
   "id": "edaa8790",
   "metadata": {},
   "source": [
    "I added a case to make it all better"
   ]
  },
  {
   "cell_type": "code",
   "execution_count": 21,
   "id": "f76f7b97",
   "metadata": {},
   "outputs": [],
   "source": [
    "def countprime(n):\n",
    "    i = 1\n",
    "    count = 0\n",
    "    while i < n:\n",
    "        if IsPrime1(i) == 1:\n",
    "            count = count + 1\n",
    "        i = i+ 1 \n",
    "    return count \n",
    "\n",
    "        "
   ]
  },
  {
   "cell_type": "code",
   "execution_count": 22,
   "id": "c21a29ed",
   "metadata": {},
   "outputs": [
    {
     "data": {
      "text/plain": [
       "4"
      ]
     },
     "execution_count": 22,
     "metadata": {},
     "output_type": "execute_result"
    }
   ],
   "source": [
    "countprime(10)"
   ]
  },
  {
   "cell_type": "code",
   "execution_count": 23,
   "id": "a8de753e",
   "metadata": {},
   "outputs": [
    {
     "data": {
      "text/plain": [
       "168"
      ]
     },
     "execution_count": 23,
     "metadata": {},
     "output_type": "execute_result"
    }
   ],
   "source": [
    "countprime(1000)"
   ]
  },
  {
   "cell_type": "code",
   "execution_count": 24,
   "id": "725e579e",
   "metadata": {},
   "outputs": [],
   "source": [
    "x = np.arange(0,40,1)\n",
    "Pi = np.zeros(40)\n",
    "i=0\n",
    "while i < np.size(Pi):\n",
    "    Pi[i] = countprime(i)\n",
    "    i += 1"
   ]
  },
  {
   "cell_type": "code",
   "execution_count": 27,
   "id": "f1f80f84",
   "metadata": {},
   "outputs": [
    {
     "data": {
      "image/png": "[encoded data removed]",
      "text/plain": [
       "<Figure size 432x288 with 1 Axes>"
      ]
     },
     "metadata": {
      "needs_background": "light"
     },
     "output_type": "display_data"
    }
   ],
   "source": [
    "plt.plot(x, Pi, 'ro')\n",
    "plt.xlabel(\"x\")\n",
    "plt.ylabel(\"Pi(x)\")\n",
    "plt.grid(True)"
   ]
  },
  {
   "cell_type": "code",
   "execution_count": null,
   "id": "71984949",
   "metadata": {},
   "outputs": [],
   "source": []
  }
 ],
 "metadata": {
  "kernelspec": {
   "display_name": "Python 3 (ipykernel)",
   "language": "python",
   "name": "python3"
  },
  "language_info": {
   "codemirror_mode": {
    "name": "ipython",
    "version": 3
   },
   "file_extension": ".py",
   "mimetype": "text/x-python",
   "name": "python",
   "nbconvert_exporter": "python",
   "pygments_lexer": "ipython3",
   "version": "3.9.12"
  }
 },
 "nbformat": 4,
 "nbformat_minor": 5
}
